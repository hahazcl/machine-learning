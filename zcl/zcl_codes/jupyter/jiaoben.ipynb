{
 "cells": [
  {
   "cell_type": "code",
   "execution_count": 1,
   "id": "efabaf65",
   "metadata": {
    "ExecuteTime": {
     "end_time": "2021-12-13T08:56:15.292762Z",
     "start_time": "2021-12-13T08:56:15.072762Z"
    },
    "lang": "en"
   },
   "outputs": [
    {
     "data": {
      "text/plain": [
       "{0: 0.10417339892628162,\n",
       " 1: -0.9123961702673937,\n",
       " 2: -0.4772644691385255,\n",
       " 3: 0.3221930449428021,\n",
       " 4: 0.4602937988139075,\n",
       " 5: 1.3862810762717177,\n",
       " 6: -2.343064957179754,\n",
       " 7: 0.025189083391045714,\n",
       " 8: -0.4015569242763414,\n",
       " 9: -0.05219342454918143}"
      ]
     },
     "execution_count": 1,
     "metadata": {},
     "output_type": "execute_result"
    }
   ],
   "source": [
    "import numpy as np\n",
    "from numpy.random import randn\n",
    "data = {i: np.random.randn() for i in range(10)}\n",
    "data"
   ]
  },
  {
   "cell_type": "code",
   "execution_count": 2,
   "id": "b8223df2",
   "metadata": {
    "ExecuteTime": {
     "end_time": "2021-12-13T08:56:15.324761Z",
     "start_time": "2021-12-13T08:56:15.305762Z"
    }
   },
   "outputs": [
    {
     "data": {
      "text/plain": [
       "\"\\nType:        dict\\nString form: {0: -0.1856633480512958, 1: -0.6955109428058457, 2: 1.0558560553194596, 3: 0.2899332978322744, 4: <...> 4, 6: -0.001988946556092941, 7: 0.47746662059174455, 8: 1.678734595317453, 9: 1.7060585422716368}\\nLength:      10\\nDocstring:  \\ndict() -> new empty dictionary\\ndict(mapping) -> new dictionary initialized from a mapping object's\\n    (key, value) pairs\\ndict(iterable) -> new dictionary initialized as if via:\\n    d = {}\\n    for k, v in iterable:\\n        d[k] = v\\ndict(**kwargs) -> new dictionary initialized with the name=value pairs\\n    in the keyword argument list.  For example:  dict(one=1, two=2)\\n\""
      ]
     },
     "execution_count": 2,
     "metadata": {},
     "output_type": "execute_result"
    }
   ],
   "source": [
    "data = {i: np.random.randn() for i in range(10)}\n",
    "# 在变量前后使⽤问号？，可以显示对象的信息\n",
    "data?\n",
    "\"\"\"\n",
    "Type:        dict\n",
    "String form: {0: -0.1856633480512958, 1: -0.6955109428058457, 2: 1.0558560553194596, 3: 0.2899332978322744, 4: <...> 4, 6: -0.001988946556092941, 7: 0.47746662059174455, 8: 1.678734595317453, 9: 1.7060585422716368}\n",
    "Length:      10\n",
    "Docstring:  \n",
    "dict() -> new empty dictionary\n",
    "dict(mapping) -> new dictionary initialized from a mapping object's\n",
    "    (key, value) pairs\n",
    "dict(iterable) -> new dictionary initialized as if via:\n",
    "    d = {}\n",
    "    for k, v in iterable:\n",
    "        d[k] = v\n",
    "dict(**kwargs) -> new dictionary initialized with the name=value pairs\n",
    "    in the keyword argument list.  For example:  dict(one=1, two=2)\n",
    "\"\"\""
   ]
  },
  {
   "cell_type": "code",
   "execution_count": 3,
   "id": "dbd07d53",
   "metadata": {
    "ExecuteTime": {
     "end_time": "2021-12-13T08:56:15.339762Z",
     "start_time": "2021-12-13T08:56:15.326762Z"
    }
   },
   "outputs": [
    {
     "data": {
      "text/plain": [
       "\"\\nDocstring:\\nprint(value, ..., sep=' ', end='\\n', file=sys.stdout, flush=False)\\n\\nPrints the values to a stream, or to sys.stdout by default.\\nOptional keyword arguments:\\nfile:  a file-like object (stream); defaults to the current sys.stdout.\\nsep:   string inserted between values, default a space.\\nend:   string appended after the last value, default a newline.\\nflush: whether to forcibly flush the stream.\\nType:      builtin_function_or_method\\n\""
      ]
     },
     "execution_count": 3,
     "metadata": {},
     "output_type": "execute_result"
    }
   ],
   "source": [
    "print?\n",
    "\"\"\"\n",
    "Docstring:\n",
    "print(value, ..., sep=' ', end='\\n', file=sys.stdout, flush=False)\n",
    "\n",
    "Prints the values to a stream, or to sys.stdout by default.\n",
    "Optional keyword arguments:\n",
    "file:  a file-like object (stream); defaults to the current sys.stdout.\n",
    "sep:   string inserted between values, default a space.\n",
    "end:   string appended after the last value, default a newline.\n",
    "flush: whether to forcibly flush the stream.\n",
    "Type:      builtin_function_or_method\n",
    "\"\"\""
   ]
  },
  {
   "cell_type": "code",
   "execution_count": 4,
   "id": "589bf2f4",
   "metadata": {
    "ExecuteTime": {
     "end_time": "2021-12-13T08:56:15.354763Z",
     "start_time": "2021-12-13T08:56:15.342763Z"
    }
   },
   "outputs": [],
   "source": [
    "def add_number(a,b):\n",
    "    \"\"\"\n",
    "    Add two numbers together\n",
    "    \"\"\"\n",
    "    return a+b"
   ]
  },
  {
   "cell_type": "code",
   "execution_count": 5,
   "id": "26fcd913",
   "metadata": {
    "ExecuteTime": {
     "end_time": "2021-12-13T08:56:15.418792Z",
     "start_time": "2021-12-13T08:56:15.356761Z"
    }
   },
   "outputs": [],
   "source": [
    "add_number?"
   ]
  },
  {
   "cell_type": "code",
   "execution_count": 6,
   "id": "eda2aada",
   "metadata": {
    "ExecuteTime": {
     "end_time": "2021-12-13T08:56:15.434791Z",
     "start_time": "2021-12-13T08:56:15.420763Z"
    }
   },
   "outputs": [],
   "source": [
    "# 使⽤??会显示函数的源码\n",
    "add_number??\n",
    "any??"
   ]
  },
  {
   "cell_type": "code",
   "execution_count": 7,
   "id": "aa63047f",
   "metadata": {
    "ExecuteTime": {
     "end_time": "2021-12-13T08:56:15.466024Z",
     "start_time": "2021-12-13T08:56:15.437767Z"
    }
   },
   "outputs": [],
   "source": [
    "# ?还有⼀个⽤途，就是像Unix或Windows命令⾏⼀样搜索IPython的命名空间。字符与通配符结合可以匹配所有的名字。\n",
    "np.*load*?"
   ]
  },
  {
   "cell_type": "code",
   "execution_count": 8,
   "id": "65cd137f",
   "metadata": {
    "ExecuteTime": {
     "end_time": "2021-12-13T08:56:15.482032Z",
     "start_time": "2021-12-13T08:56:15.467762Z"
    }
   },
   "outputs": [],
   "source": [
    "#  %run ipython_script_test.py 可以⽤%run命令运⾏所有的Python程序\n",
    "#如果⼀个Python脚本需要命令⾏参数（在sys.argv中查找），可以在⽂件路径之后传递\n",
    "# 如果想让⼀个脚本访问IPython已经定义过的变量，可以使⽤%run -i"
   ]
  },
  {
   "cell_type": "code",
   "execution_count": 10,
   "id": "fe16fb99",
   "metadata": {
    "ExecuteTime": {
     "end_time": "2021-12-13T08:56:21.285809Z",
     "start_time": "2021-12-13T08:56:18.972819Z"
    }
   },
   "outputs": [
    {
     "name": "stdout",
     "output_type": "stream",
     "text": [
      "28.1 µs ± 1.26 µs per loop (mean ± std. dev. of 7 runs, 10000 loops each)\n"
     ]
    }
   ],
   "source": [
    "import numpy as np\n",
    "a = np.random.randn(100, 100)\n",
    "%timeit np.dot(a, a)"
   ]
  },
  {
   "cell_type": "code",
   "execution_count": 11,
   "id": "6c72cc5d",
   "metadata": {
    "ExecuteTime": {
     "end_time": "2021-12-13T08:56:21.300814Z",
     "start_time": "2021-12-13T08:56:21.287812Z"
    }
   },
   "outputs": [],
   "source": [
    "debug?\n",
    "# 魔术函数默认可以不⽤百分号，只要没有变量和函数名相同。这个特点被称为“⾃动魔术”，可以⽤%automagic打开或关闭"
   ]
  },
  {
   "cell_type": "code",
   "execution_count": 12,
   "id": "d30707ed",
   "metadata": {
    "ExecuteTime": {
     "end_time": "2021-12-13T08:56:21.316812Z",
     "start_time": "2021-12-13T08:56:21.302813Z"
    }
   },
   "outputs": [
    {
     "data": {
      "text/plain": [
       "'E:\\\\DeskTop\\\\jupyterNotes'"
      ]
     },
     "execution_count": 12,
     "metadata": {},
     "output_type": "execute_result"
    }
   ],
   "source": [
    "%pwd"
   ]
  },
  {
   "cell_type": "code",
   "execution_count": 13,
   "id": "1a1a4f8e",
   "metadata": {
    "ExecuteTime": {
     "end_time": "2021-12-13T08:56:21.332812Z",
     "start_time": "2021-12-13T08:56:21.319810Z"
    }
   },
   "outputs": [
    {
     "data": {
      "text/plain": [
       "'E:\\\\DeskTop\\\\jupyterNotes'"
      ]
     },
     "execution_count": 13,
     "metadata": {},
     "output_type": "execute_result"
    }
   ],
   "source": [
    "foo = %pwd\n",
    "foo"
   ]
  },
  {
   "cell_type": "code",
   "execution_count": 14,
   "id": "1836a728",
   "metadata": {
    "ExecuteTime": {
     "end_time": "2021-12-13T08:56:21.348808Z",
     "start_time": "2021-12-13T08:56:21.334811Z"
    }
   },
   "outputs": [],
   "source": [
    "# 显示ipython的快速参考\n",
    "%quickref"
   ]
  },
  {
   "cell_type": "code",
   "execution_count": 15,
   "id": "5287fd4b",
   "metadata": {
    "ExecuteTime": {
     "end_time": "2021-12-13T08:56:21.364810Z",
     "start_time": "2021-12-13T08:56:21.351809Z"
    }
   },
   "outputs": [],
   "source": [
    "#显示所有魔法方法\n",
    "%magic "
   ]
  },
  {
   "cell_type": "code",
   "execution_count": 17,
   "id": "e7317954",
   "metadata": {
    "ExecuteTime": {
     "end_time": "2021-12-13T08:57:00.504264Z",
     "start_time": "2021-12-13T08:56:35.769772Z"
    }
   },
   "outputs": [
    {
     "name": "stdout",
     "output_type": "stream",
     "text": [
      "> \u001b[1;32mc:\\users\\herdsric\\appdata\\local\\temp\\ipykernel_11880\\3576742551.py\u001b[0m(1)\u001b[0;36m<module>\u001b[1;34m()\u001b[0m\n",
      "\n",
      "ipdb> exit\n"
     ]
    }
   ],
   "source": [
    "#在出现异常的语句进入调试模式\n",
    "%debug"
   ]
  },
  {
   "cell_type": "code",
   "execution_count": 19,
   "id": "5994e630",
   "metadata": {
    "ExecuteTime": {
     "end_time": "2021-12-13T08:57:38.096188Z",
     "start_time": "2021-12-13T08:57:38.083190Z"
    }
   },
   "outputs": [
    {
     "name": "stdout",
     "output_type": "stream",
     "text": [
      "Using matplotlib backend: Qt5Agg\n"
     ]
    }
   ],
   "source": [
    "%matplotlib"
   ]
  },
  {
   "cell_type": "code",
   "execution_count": 21,
   "id": "3bb4eb3b",
   "metadata": {
    "ExecuteTime": {
     "end_time": "2021-12-13T09:18:57.072924Z",
     "start_time": "2021-12-13T09:18:56.199407Z"
    }
   },
   "outputs": [
    {
     "data": {
      "text/plain": [
       "[<matplotlib.lines.Line2D at 0x15822cad4c0>]"
      ]
     },
     "execution_count": 21,
     "metadata": {},
     "output_type": "execute_result"
    },
    {
     "data": {
      "image/png": "[encoded data removed]",
      "text/plain": [
       "<Figure size 432x288 with 1 Axes>"
      ]
     },
     "metadata": {
      "needs_background": "light"
     },
     "output_type": "display_data"
    }
   ],
   "source": [
    "%matplotlib inline\n",
    "import matplotlib.pyplot as plt\n",
    "plt.plot(np.random.randn(50).cumsum())"
   ]
  },
  {
   "cell_type": "code",
   "execution_count": 22,
   "id": "a76152b9",
   "metadata": {
    "ExecuteTime": {
     "end_time": "2021-12-13T11:15:20.828119Z",
     "start_time": "2021-12-13T11:15:20.808077Z"
    }
   },
   "outputs": [
    {
     "data": {
      "text/plain": [
       "True"
      ]
     },
     "execution_count": 22,
     "metadata": {},
     "output_type": "execute_result"
    }
   ],
   "source": [
    "# ⽤isinstance函数检查对象是某个类型的实例：\n",
    "a = 5\n",
    "isinstance(a,int)"
   ]
  },
  {
   "cell_type": "code",
   "execution_count": 23,
   "id": "fd052a3e",
   "metadata": {
    "ExecuteTime": {
     "end_time": "2021-12-13T11:19:29.972539Z",
     "start_time": "2021-12-13T11:19:29.962534Z"
    }
   },
   "outputs": [
    {
     "data": {
      "text/plain": [
       "True"
      ]
     },
     "execution_count": 23,
     "metadata": {},
     "output_type": "execute_result"
    }
   ],
   "source": [
    "# isinstance可以⽤类型元组，检查对象的类型是否在元组中：\n",
    "a = 3;b = 2.5\n",
    "isinstance(a,(int, float))"
   ]
  },
  {
   "cell_type": "code",
   "execution_count": 27,
   "id": "c5fca736",
   "metadata": {
    "ExecuteTime": {
     "end_time": "2021-12-13T11:24:52.795940Z",
     "start_time": "2021-12-13T11:24:52.787937Z"
    }
   },
   "outputs": [
    {
     "data": {
      "text/plain": [
       "<function str.split(sep=None, maxsplit=-1)>"
      ]
     },
     "execution_count": 27,
     "metadata": {},
     "output_type": "execute_result"
    }
   ],
   "source": [
    "\"\"\"\n",
    "Python的对象通常都有属性（其它存储在对象内部的Python对\n",
    "象）和⽅法（对象的附属函数可以访问对象的内部数据）。可以\n",
    "⽤obj.attribute_name访问属性和⽅法：\n",
    "\"\"\"\n",
    "a = 'foo'\n",
    "getattr(a,'split')"
   ]
  },
  {
   "cell_type": "code",
   "execution_count": null,
   "id": "a17326a3",
   "metadata": {},
   "outputs": [],
   "source": []
  }
 ],
 "metadata": {
  "kernelspec": {
   "display_name": "Python 3 (ipykernel)",
   "language": "python",
   "name": "python3"
  },
  "language_info": {
   "codemirror_mode": {
    "name": "ipython",
    "version": 3
   },
   "file_extension": ".py",
   "mimetype": "text/x-python",
   "name": "python",
   "nbconvert_exporter": "python",
   "pygments_lexer": "ipython3",
   "version": "3.9.7"
  },
  "latex_envs": {
   "LaTeX_envs_menu_present": true,
   "autoclose": false,
   "autocomplete": true,
   "bibliofile": "biblio.bib",
   "cite_by": "apalike",
   "current_citInitial": 1,
   "eqLabelWithNumbers": true,
   "eqNumInitial": 1,
   "hotkeys": {
    "equation": "Ctrl-E",
    "itemize": "Ctrl-I"
   },
   "labels_anchors": false,
   "latex_user_defs": false,
   "report_style_numbering": false,
   "user_envs_cfg": false
  },
  "nbTranslate": {
   "displayLangs": [
    "en"
   ],
   "hotkey": "alt-t",
   "langInMainMenu": true,
   "sourceLang": "en",
   "targetLang": "fr",
   "useGoogleTranslate": true
  },
  "toc": {
   "base_numbering": 1,
   "nav_menu": {
    "height": "215px",
    "width": "246px"
   },
   "number_sections": true,
   "sideBar": true,
   "skip_h1_title": false,
   "title_cell": "Table of Contents",
   "title_sidebar": "Contents",
   "toc_cell": false,
   "toc_position": {},
   "toc_section_display": true,
   "toc_window_display": false
  },
  "varInspector": {
   "cols": {
    "lenName": "13",
    "lenType": 16,
    "lenVar": 40
   },
   "kernels_config": {
    "python": {
     "delete_cmd_postfix": "",
     "delete_cmd_prefix": "del ",
     "library": "var_list.py",
     "varRefreshCmd": "print(var_dic_list())"
    },
    "r": {
     "delete_cmd_postfix": ") ",
     "delete_cmd_prefix": "rm(",
     "library": "var_list.r",
     "varRefreshCmd": "cat(var_dic_list()) "
    }
   },
   "types_to_exclude": [
    "module",
    "function",
    "builtin_function_or_method",
    "instance",
    "_Feature"
   ],
   "window_display": false
  }
 },
 "nbformat": 4,
 "nbformat_minor": 5
}
